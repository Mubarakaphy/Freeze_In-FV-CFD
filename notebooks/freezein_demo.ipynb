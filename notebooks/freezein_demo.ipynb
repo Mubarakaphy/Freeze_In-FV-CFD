{
 "cells": [
  {
   "cell_type": "markdown",
   "id": "d540e02d",
   "metadata": {},
   "source": [
    "\n",
    "# Freeze-in CFD — Demo Notebook\n",
    "\n",
    "This notebook demonstrates the **ODE benchmark** and the **CFD-style finite-volume PDE** solver\n",
    "for the freeze-in yield. It reproduces the main figure in the repository.\n",
    "\n",
    "- Variable: $x \\equiv m_\\chi/T$\n",
    "- Yield: $Y \\equiv n_\\chi/s$\n",
    "- Reference ODE: $\\tfrac{dY}{dx} = \\tfrac{1}{s(T)}\\,\\tfrac{C(T)}{H(T)\\,x}$\n"
   ]
  },
  {
   "cell_type": "code",
   "execution_count": null,
   "id": "47b041ed",
   "metadata": {},
   "outputs": [],
   "source": [
    "\n",
    "# Setup: add local 'src' to Python path (to run from a cloned repo without installation)\n",
    "import os, sys, numpy as np, matplotlib.pyplot as plt\n",
    "plt.rcParams['figure.dpi'] = 120\n",
    "\n",
    "REPO_ROOT = os.getcwd()  # run this notebook from the repo root\n",
    "SRC = os.path.join(REPO_ROOT, \"src\")\n",
    "if SRC not in sys.path:\n",
    "    sys.path.insert(0, SRC)\n",
    "\n",
    "from freezein_fv.ivp_reference import solve_reference\n",
    "from freezein_fv.pde_solver import march_pde\n"
   ]
  },
  {
   "cell_type": "markdown",
   "id": "898a47db",
   "metadata": {},
   "source": [
    "## Run ODE benchmark and PDE solver"
   ]
  },
  {
   "cell_type": "code",
   "execution_count": null,
   "id": "80ddf406",
   "metadata": {},
   "outputs": [],
   "source": [
    "\n",
    "# ODE reference\n",
    "ref = solve_reference()\n",
    "x_ref, Y_ref = ref[\"x_plot\"], ref[\"Y\"]\n",
    "\n",
    "# PDE (fixed-step in x, MUSCL in p), with an ODE→PDE switch at small x\n",
    "out = march_pde(\n",
    "    Np=600, Nx=2500, inj_width=0.02,\n",
    "    scheme=\"muscl\", time_integrator=\"rk2\",\n",
    "    x_switch=1e-2\n",
    ")\n",
    "x_pde   = out[\"x\"]\n",
    "Y_src   = out[\"Y_src_hist\"]\n",
    "Y_fromf = out[\"Y_hist\"]\n",
    "\n",
    "print(\"Final Y (ODE)         :\", Y_ref[-1])\n",
    "print(\"Final Y (PDE src-only):\", Y_src[-1])\n",
    "print(\"Final Y (integrated f):\", Y_fromf[-1])\n"
   ]
  },
  {
   "cell_type": "markdown",
   "id": "f8358492",
   "metadata": {},
   "source": [
    "## Plot"
   ]
  },
  {
   "cell_type": "code",
   "execution_count": null,
   "id": "790c64eb",
   "metadata": {},
   "outputs": [],
   "source": [
    "\n",
    "fig = plt.figure(figsize=(8.2, 4.8))\n",
    "ax = plt.gca()\n",
    "\n",
    "ax.loglog(x_ref, Y_ref, lw=2.0, label=\"ODE (solve_ivp)\", color=\"C0\")\n",
    "ax.loglog(x_pde, Y_src, \"--\", lw=2.0, label=\"PDE (source-only)\", color=\"C1\")\n",
    "ax.loglog(x_pde, Y_fromf, \":\", lw=2.0, label=\"PDE (integrated f)\", color=\"C2\")\n",
    "\n",
    "x_switch = 1e-2\n",
    "ax.axvline(x_switch, color=\"C7\", ls=\"--\", lw=1.0)\n",
    "# annotate near the switch\n",
    "import numpy as _np\n",
    "idx = _np.searchsorted(x_ref, x_switch, side=\"left\")\n",
    "y_here = Y_ref[min(idx, len(Y_ref)-1)]\n",
    "ax.text(x_switch*1.05, y_here*1.3, \"ODE → PDE\\ntransition\", fontsize=9, va=\"center\")\n",
    "\n",
    "ax.set_xlabel(r\"$x = m_\\chi/T$\", fontsize=12)\n",
    "ax.set_ylabel(r\"$Y = n_\\chi/s$\", fontsize=12)\n",
    "ax.set_title(\"Freeze-in yield comparison\", fontsize=13)\n",
    "\n",
    "ax.legend(frameon=False, fontsize=10, loc=\"lower right\")\n",
    "ax.grid(False)\n",
    "ax.set_facecolor(\"white\")\n",
    "ax.tick_params(which=\"both\", direction=\"in\", top=True, right=True)\n",
    "fig.tight_layout()\n",
    "plt.show()\n"
   ]
  },
  {
   "cell_type": "markdown",
   "id": "d1c6f4e8",
   "metadata": {},
   "source": [
    "## Momentum-space snapshots"
   ]
  },
  {
   "cell_type": "code",
   "execution_count": null,
   "id": "a5dbbbeb",
   "metadata": {},
   "outputs": [],
   "source": [
    "\n",
    "# Re-run with snapshots at selected x values and plot p^2 f(p)\n",
    "snaps = [1e-2, 3e-2, 1e-1, 3e-1, 1.0]\n",
    "out2 = march_pde(Np=600, Nx=2500, inj_width=0.02, scheme='muscl',\n",
    "                 time_integrator='rk2', x_switch=1e-2, snapshots_x=snaps)\n",
    "\n",
    "items = sorted(out2['snapshots'].items(), key=lambda kv: kv[1]['x'])\n",
    "from freezein_fv.physics import mA\n",
    "plt.figure(figsize=(8.2, 4.8))\n",
    "ax = plt.gca()\n",
    "for req_x, data in items:\n",
    "    p, f, x_act = data['p'], data['f'], data['x']\n",
    "    ax.loglog(p, p**2*f, lw=2, label=rf\"$x \u0007pprox {x_act:.2e}$\")\n",
    "ax.axvline(0.5*mA, ls=\"--\", lw=1.2, color=\"C0\")\n",
    "ax.set_xlabel(r\"$p\\,[\\mathrm{GeV}]$\", fontsize=12)\n",
    "ax.set_ylabel(r\"$p^2 f_\\chi(p)$ (arb.)\", fontsize=12)\n",
    "ax.set_title(r\"Momentum-space snapshots of $f_\\chi(p)$\", fontsize=13)\n",
    "ax.legend(frameon=False, fontsize=9)\n",
    "ax.grid(False)\n",
    "ax.set_facecolor(\"white\")\n",
    "ax.tick_params(which=\"both\", direction=\"in\", top=True, right=True)\n",
    "plt.tight_layout()\n",
    "plt.show()\n"
   ]
  }
 ],
 "metadata": {},
 "nbformat": 4,
 "nbformat_minor": 5
}
