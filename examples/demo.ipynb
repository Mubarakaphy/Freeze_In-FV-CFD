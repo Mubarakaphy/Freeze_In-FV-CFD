{
 "cells": [
  {
   "cell_type": "markdown",
   "id": "7c487724",
   "metadata": {},
   "source": [
    "# Freeze-in CFD Demo\n",
    "\n",
    "This notebook demonstrates the **ODE benchmark** and the **CFD-style finite-volume PDE** for the freeze-in yield.\n",
    "\n",
    "We work with the dimensionless variable $x \\equiv \\frac{m_\\chi}{T}$ and define the comoving yield $Y \\equiv \\frac{n_\\chi}{s}$.\n",
    "\n",
    "For decays $A\\to\\chi\\chi$, the reference ODE is\n",
    "$\\frac{dY}{dx} \\;=\\; \\frac{1}{s(T)}\\;\\frac{C(T)}{H(T)\\,x},\\qquad C(T)=2\\,\\Gamma_A\\,n_A^{\\rm eq}(T).$\n",
    "\n",
    "The momentum–space PDE for $f_\\chi(p,x)$ is\n",
    "$\\partial_x f_\\chi \\;+\\; \\partial_p\\!\\Big(\\frac{-p}{x}\\,f_\\chi\\Big) \\;=\\; S(x,p),$\n",
    "with the **source normalization**\n",
    "$\\int_0^\\infty p^2 \\, S(x,p)\\,dp \\;=\\; \\frac{2\\pi^2}{g_\\chi}\\,\\frac{C(T)}{H(T)\\,x},$\n",
    "so that the **source-only yield** matches the ODE benchmark.\n"
   ]
  },
  {
   "cell_type": "markdown",
   "id": "3b328da1",
   "metadata": {},
   "source": [
    "## Set up\n",
    "\n",
    "Add local `src/` to `sys.path`."
   ]
  },
  {
   "cell_type": "code",
   "execution_count": null,
   "id": "45e8d848",
   "metadata": {},
   "outputs": [],
   "source": [
    "\n",
    "import os, sys, numpy as np, matplotlib.pyplot as plt\n",
    "plt.rcParams['figure.dpi'] = 120\n",
    "\n",
    "ROOT = os.path.abspath(os.path.join(os.getcwd()))\n",
    "SRC = os.path.join(ROOT, \"src\")\n",
    "if SRC not in sys.path:\n",
    "    sys.path.insert(0, SRC)\n",
    "\n",
    "from freezein_fv.ivp_reference import solve_reference\n",
    "from freezein_fv.pde_solver import march_pde\n"
   ]
  },
  {
   "cell_type": "markdown",
   "id": "acf2d466",
   "metadata": {},
   "source": [
    "## Yield comparison (ODE vs PDE)\n",
    "\n",
    "Vertical line marks the ODE→PDE switch."
   ]
  },
  {
   "cell_type": "code",
   "execution_count": null,
   "id": "84a35c5f",
   "metadata": {},
   "outputs": [],
   "source": [
    "\n",
    "ref = solve_reference()\n",
    "x_ref, Y_ref = ref['x_plot'], ref['Y']\n",
    "\n",
    "out = march_pde(Np=600, Nx=2500, inj_width=0.02, scheme='muscl',\n",
    "                time_integrator='rk2', x_switch=1e-2)\n",
    "x_pde = out['x']\n",
    "Y_src = out['Y_src_hist']\n",
    "Y_fromf = out['Y_hist']\n",
    "\n",
    "plt.figure(figsize=(8.4,4.8))\n",
    "plt.loglog(x_ref, Y_ref, label='ODE (solve_ivp)')\n",
    "plt.loglog(x_pde, Y_src, '--', label='PDE (source-only)')\n",
    "plt.loglog(x_pde, Y_fromf, ':', label='PDE (integrated f)')\n",
    "plt.axvline(1e-2, ls='--', lw=1)\n",
    "plt.text(1.05e-2, Y_ref[np.searchsorted(x_ref,1e-2)], 'ODE → PDE', fontsize=9)\n",
    "plt.xlabel(r'$x = m_\\chi/T$'); plt.ylabel(r'$Y = n_\\chi/s$'); plt.title('Yield comparison')\n",
    "plt.grid(True, which='both', ls=':'); plt.legend(); plt.tight_layout()\n",
    "plt.show()\n",
    "\n",
    "print('Final Y (ODE)         :', Y_ref[-1])\n",
    "print('Final Y (PDE src-only):', Y_src[-1])\n",
    "print('Final Y (integrated f):', Y_fromf[-1])\n"
   ]
  },
  {
   "cell_type": "markdown",
   "id": "357701f2",
   "metadata": {},
   "source": [
    "## Momentum-space snapshots of $f_\\chi(p)$"
   ]
  },
  {
   "cell_type": "code",
   "execution_count": null,
   "id": "80e9a127",
   "metadata": {},
   "outputs": [],
   "source": [
    "\n",
    "from freezein_fv.physics import mA\n",
    "snaps = [1e-2, 3e-2, 1e-1, 3e-1, 1.0]\n",
    "out2 = march_pde(Np=600, Nx=2500, inj_width=0.02, scheme='muscl', time_integrator='rk2',\n",
    "                 x_switch=1e-2, snapshots_x=snaps)\n",
    "S = out2['snapshots']\n",
    "items = sorted(S.items(), key=lambda kv: kv[1]['x'])\n",
    "\n",
    "# Absolute p^2 f\n",
    "plt.figure(figsize=(8.4,4.8))\n",
    "for req_x, data in items:\n",
    "    p, f, x_act = data['p'], data['f'], data['x']\n",
    "    plt.loglog(p, p**2*f, label=f'x≈{x_act:.2e} (req {req_x:.0e})')\n",
    "plt.axvline(0.5*mA, ls='--', lw=1)\n",
    "plt.xlabel('p [GeV]'); plt.ylabel(r'$p^2 f_\\chi(p)$ (arb.)')\n",
    "plt.title('Momentum snapshots: number integrand'); plt.grid(True, which='both', ls=':'); plt.legend(); plt.tight_layout()\n",
    "plt.show()\n",
    "\n",
    "# Normalized shape\n",
    "plt.figure(figsize=(8.4,4.8))\n",
    "for req_x, data in items:\n",
    "    p, f, x_act = data['p'], data['f'], data['x']\n",
    "    area = np.trapz(p**2*f, p)\n",
    "    plt.loglog(p, (p**2*f)/(area+1e-300), label=f'x≈{x_act:.2e}')\n",
    "plt.axvline(0.5*mA, ls='--', lw=1)\n",
    "plt.xlabel('p [GeV]'); plt.ylabel(r'$\\frac{p^2 f_\\chi(p)}{\\int p^2 f_\\chi dp}$')\n",
    "plt.title('Momentum snapshots: shapes (normalized)'); plt.grid(True, which='both', ls=':'); plt.legend(); plt.tight_layout()\n",
    "plt.show()\n",
    "\n",
    "# Energy integrand p^3 f\n",
    "plt.figure(figsize=(8.4,4.8))\n",
    "for req_x, data in items:\n",
    "    p, f, x_act = data['p'], data['f'], data['x']\n",
    "    plt.loglog(p, p**3*f, label=f'x≈{x_act:.2e}')\n",
    "plt.axvline(0.5*mA, ls='--', lw=1)\n",
    "plt.xlabel('p [GeV]'); plt.ylabel(r'$p^3 f_\\chi(p)$ (arb.)')\n",
    "plt.title('Momentum snapshots: energy integrand'); plt.grid(True, which='both', ls=':'); plt.legend(); plt.tight_layout()\n",
    "plt.show()\n"
   ]
  }
 ],
 "metadata": {},
 "nbformat": 4,
 "nbformat_minor": 5
}
